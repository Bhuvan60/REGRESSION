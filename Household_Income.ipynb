{
 "cells": [
  {
   "cell_type": "markdown",
   "id": "8353b078",
   "metadata": {},
   "source": [
    "## IMPORT LIBRARIES"
   ]
  },
  {
   "cell_type": "code",
   "execution_count": 1,
   "id": "5e173b0a",
   "metadata": {},
   "outputs": [],
   "source": [
    "!pip install mlflow -q"
   ]
  },
  {
   "cell_type": "code",
   "execution_count": 2,
   "id": "4d21a267",
   "metadata": {},
   "outputs": [],
   "source": [
    "import pandas as pd\n",
    "import numpy as np"
   ]
  },
  {
   "cell_type": "code",
   "execution_count": 3,
   "id": "64b15c4f",
   "metadata": {},
   "outputs": [],
   "source": [
    "data=pd.read_csv(\"C:/Users/HP/OneDrive/Desktop/data.csv\")"
   ]
  },
  {
   "cell_type": "code",
   "execution_count": 4,
   "id": "2d8e3004",
   "metadata": {},
   "outputs": [
    {
     "data": {
      "text/plain": [
       "(10000, 14)"
      ]
     },
     "execution_count": 4,
     "metadata": {},
     "output_type": "execute_result"
    }
   ],
   "source": [
    "data.shape"
   ]
  },
  {
   "cell_type": "code",
   "execution_count": 5,
   "id": "b2e19eb0",
   "metadata": {},
   "outputs": [
    {
     "data": {
      "text/html": [
       "<div>\n",
       "<style scoped>\n",
       "    .dataframe tbody tr th:only-of-type {\n",
       "        vertical-align: middle;\n",
       "    }\n",
       "\n",
       "    .dataframe tbody tr th {\n",
       "        vertical-align: top;\n",
       "    }\n",
       "\n",
       "    .dataframe thead th {\n",
       "        text-align: right;\n",
       "    }\n",
       "</style>\n",
       "<table border=\"1\" class=\"dataframe\">\n",
       "  <thead>\n",
       "    <tr style=\"text-align: right;\">\n",
       "      <th></th>\n",
       "      <th>Age</th>\n",
       "      <th>Education_Level</th>\n",
       "      <th>Occupation</th>\n",
       "      <th>Number_of_Dependents</th>\n",
       "      <th>Location</th>\n",
       "      <th>Work_Experience</th>\n",
       "      <th>Marital_Status</th>\n",
       "      <th>Employment_Status</th>\n",
       "      <th>Household_Size</th>\n",
       "      <th>Homeownership_Status</th>\n",
       "      <th>Type_of_Housing</th>\n",
       "      <th>Gender</th>\n",
       "      <th>Primary_Mode_of_Transportation</th>\n",
       "      <th>Income</th>\n",
       "    </tr>\n",
       "  </thead>\n",
       "  <tbody>\n",
       "    <tr>\n",
       "      <th>0</th>\n",
       "      <td>56</td>\n",
       "      <td>Master's</td>\n",
       "      <td>Technology</td>\n",
       "      <td>5</td>\n",
       "      <td>Urban</td>\n",
       "      <td>21</td>\n",
       "      <td>Married</td>\n",
       "      <td>Full-time</td>\n",
       "      <td>7</td>\n",
       "      <td>Own</td>\n",
       "      <td>Apartment</td>\n",
       "      <td>Male</td>\n",
       "      <td>Public transit</td>\n",
       "      <td>72510</td>\n",
       "    </tr>\n",
       "    <tr>\n",
       "      <th>1</th>\n",
       "      <td>69</td>\n",
       "      <td>High School</td>\n",
       "      <td>Finance</td>\n",
       "      <td>0</td>\n",
       "      <td>Urban</td>\n",
       "      <td>4</td>\n",
       "      <td>Single</td>\n",
       "      <td>Full-time</td>\n",
       "      <td>7</td>\n",
       "      <td>Own</td>\n",
       "      <td>Apartment</td>\n",
       "      <td>Male</td>\n",
       "      <td>Biking</td>\n",
       "      <td>75462</td>\n",
       "    </tr>\n",
       "    <tr>\n",
       "      <th>2</th>\n",
       "      <td>46</td>\n",
       "      <td>Bachelor's</td>\n",
       "      <td>Technology</td>\n",
       "      <td>1</td>\n",
       "      <td>Urban</td>\n",
       "      <td>1</td>\n",
       "      <td>Single</td>\n",
       "      <td>Full-time</td>\n",
       "      <td>7</td>\n",
       "      <td>Own</td>\n",
       "      <td>Single-family home</td>\n",
       "      <td>Female</td>\n",
       "      <td>Car</td>\n",
       "      <td>71748</td>\n",
       "    </tr>\n",
       "    <tr>\n",
       "      <th>3</th>\n",
       "      <td>32</td>\n",
       "      <td>High School</td>\n",
       "      <td>Others</td>\n",
       "      <td>2</td>\n",
       "      <td>Urban</td>\n",
       "      <td>32</td>\n",
       "      <td>Married</td>\n",
       "      <td>Full-time</td>\n",
       "      <td>1</td>\n",
       "      <td>Own</td>\n",
       "      <td>Apartment</td>\n",
       "      <td>Female</td>\n",
       "      <td>Car</td>\n",
       "      <td>74520</td>\n",
       "    </tr>\n",
       "    <tr>\n",
       "      <th>4</th>\n",
       "      <td>60</td>\n",
       "      <td>Bachelor's</td>\n",
       "      <td>Finance</td>\n",
       "      <td>3</td>\n",
       "      <td>Urban</td>\n",
       "      <td>15</td>\n",
       "      <td>Married</td>\n",
       "      <td>Self-employed</td>\n",
       "      <td>4</td>\n",
       "      <td>Own</td>\n",
       "      <td>Townhouse</td>\n",
       "      <td>Male</td>\n",
       "      <td>Walking</td>\n",
       "      <td>640210</td>\n",
       "    </tr>\n",
       "  </tbody>\n",
       "</table>\n",
       "</div>"
      ],
      "text/plain": [
       "   Age Education_Level  Occupation  Number_of_Dependents Location  \\\n",
       "0   56        Master's  Technology                     5    Urban   \n",
       "1   69     High School     Finance                     0    Urban   \n",
       "2   46      Bachelor's  Technology                     1    Urban   \n",
       "3   32     High School      Others                     2    Urban   \n",
       "4   60      Bachelor's     Finance                     3    Urban   \n",
       "\n",
       "   Work_Experience Marital_Status Employment_Status  Household_Size  \\\n",
       "0               21        Married         Full-time               7   \n",
       "1                4         Single         Full-time               7   \n",
       "2                1         Single         Full-time               7   \n",
       "3               32        Married         Full-time               1   \n",
       "4               15        Married     Self-employed               4   \n",
       "\n",
       "  Homeownership_Status     Type_of_Housing  Gender  \\\n",
       "0                  Own           Apartment    Male   \n",
       "1                  Own           Apartment    Male   \n",
       "2                  Own  Single-family home  Female   \n",
       "3                  Own           Apartment  Female   \n",
       "4                  Own           Townhouse    Male   \n",
       "\n",
       "  Primary_Mode_of_Transportation  Income  \n",
       "0                 Public transit   72510  \n",
       "1                         Biking   75462  \n",
       "2                            Car   71748  \n",
       "3                            Car   74520  \n",
       "4                        Walking  640210  "
      ]
     },
     "execution_count": 5,
     "metadata": {},
     "output_type": "execute_result"
    }
   ],
   "source": [
    "data.head()"
   ]
  },
  {
   "cell_type": "code",
   "execution_count": 6,
   "id": "394e8811",
   "metadata": {},
   "outputs": [
    {
     "name": "stdout",
     "output_type": "stream",
     "text": [
      "<class 'pandas.core.frame.DataFrame'>\n",
      "RangeIndex: 10000 entries, 0 to 9999\n",
      "Data columns (total 14 columns):\n",
      " #   Column                          Non-Null Count  Dtype \n",
      "---  ------                          --------------  ----- \n",
      " 0   Age                             10000 non-null  int64 \n",
      " 1   Education_Level                 10000 non-null  object\n",
      " 2   Occupation                      10000 non-null  object\n",
      " 3   Number_of_Dependents            10000 non-null  int64 \n",
      " 4   Location                        10000 non-null  object\n",
      " 5   Work_Experience                 10000 non-null  int64 \n",
      " 6   Marital_Status                  10000 non-null  object\n",
      " 7   Employment_Status               10000 non-null  object\n",
      " 8   Household_Size                  10000 non-null  int64 \n",
      " 9   Homeownership_Status            10000 non-null  object\n",
      " 10  Type_of_Housing                 10000 non-null  object\n",
      " 11  Gender                          10000 non-null  object\n",
      " 12  Primary_Mode_of_Transportation  10000 non-null  object\n",
      " 13  Income                          10000 non-null  int64 \n",
      "dtypes: int64(5), object(9)\n",
      "memory usage: 1.1+ MB\n"
     ]
    }
   ],
   "source": [
    "data.info()"
   ]
  },
  {
   "cell_type": "code",
   "execution_count": 7,
   "id": "8e71bc64",
   "metadata": {},
   "outputs": [
    {
     "data": {
      "text/plain": [
       "Index(['Age', 'Education_Level', 'Occupation', 'Number_of_Dependents',\n",
       "       'Location', 'Work_Experience', 'Marital_Status', 'Employment_Status',\n",
       "       'Household_Size', 'Homeownership_Status', 'Type_of_Housing', 'Gender',\n",
       "       'Primary_Mode_of_Transportation', 'Income'],\n",
       "      dtype='object')"
      ]
     },
     "execution_count": 7,
     "metadata": {},
     "output_type": "execute_result"
    }
   ],
   "source": [
    "data.columns"
   ]
  },
  {
   "cell_type": "code",
   "execution_count": 8,
   "id": "d4cce6eb",
   "metadata": {},
   "outputs": [
    {
     "data": {
      "text/plain": [
       "Age                               0\n",
       "Education_Level                   0\n",
       "Occupation                        0\n",
       "Number_of_Dependents              0\n",
       "Location                          0\n",
       "Work_Experience                   0\n",
       "Marital_Status                    0\n",
       "Employment_Status                 0\n",
       "Household_Size                    0\n",
       "Homeownership_Status              0\n",
       "Type_of_Housing                   0\n",
       "Gender                            0\n",
       "Primary_Mode_of_Transportation    0\n",
       "Income                            0\n",
       "dtype: int64"
      ]
     },
     "execution_count": 8,
     "metadata": {},
     "output_type": "execute_result"
    }
   ],
   "source": [
    "data.isnull().sum()"
   ]
  },
  {
   "cell_type": "code",
   "execution_count": 9,
   "id": "ef279e3c",
   "metadata": {},
   "outputs": [],
   "source": [
    "num_columns=data.select_dtypes(include=\"number\").columns"
   ]
  },
  {
   "cell_type": "code",
   "execution_count": 10,
   "id": "651ef271",
   "metadata": {},
   "outputs": [],
   "source": [
    "cat_columns=data.select_dtypes(include=\"object\").columns"
   ]
  },
  {
   "cell_type": "code",
   "execution_count": 11,
   "id": "0c900529",
   "metadata": {},
   "outputs": [
    {
     "data": {
      "text/plain": [
       "Index(['Education_Level', 'Occupation', 'Location', 'Marital_Status',\n",
       "       'Employment_Status', 'Homeownership_Status', 'Type_of_Housing',\n",
       "       'Gender', 'Primary_Mode_of_Transportation'],\n",
       "      dtype='object')"
      ]
     },
     "execution_count": 11,
     "metadata": {},
     "output_type": "execute_result"
    }
   ],
   "source": [
    "cat_columns"
   ]
  },
  {
   "cell_type": "code",
   "execution_count": 12,
   "id": "fb1661f5",
   "metadata": {},
   "outputs": [
    {
     "data": {
      "text/plain": [
       "Index(['Age', 'Number_of_Dependents', 'Work_Experience', 'Household_Size',\n",
       "       'Income'],\n",
       "      dtype='object')"
      ]
     },
     "execution_count": 12,
     "metadata": {},
     "output_type": "execute_result"
    }
   ],
   "source": [
    "num_columns"
   ]
  },
  {
   "cell_type": "markdown",
   "id": "06060342",
   "metadata": {},
   "source": [
    "## CHECKING OUTLIERS"
   ]
  },
  {
   "cell_type": "code",
   "execution_count": 13,
   "id": "9f246e61",
   "metadata": {},
   "outputs": [],
   "source": [
    "import matplotlib.pyplot as plt\n",
    "import seaborn as sns"
   ]
  },
  {
   "cell_type": "code",
   "execution_count": 14,
   "id": "fb9df0ae",
   "metadata": {},
   "outputs": [
    {
     "data": {
      "image/png": "[encoded data removed]",
      "text/plain": [
       "<Figure size 1000x3000 with 5 Axes>"
      ]
     },
     "metadata": {},
     "output_type": "display_data"
    }
   ],
   "source": [
    "# boxplot for each numerical column.\n",
    "num_col = ['Age', 'Number_of_Dependents', 'Work_Experience', 'Household_Size','Income']\n",
    "fig, axes = plt.subplots(nrows=5, ncols=1, figsize=(10, 30))\n",
    "i=0\n",
    "\n",
    "for col in num_col:\n",
    "    ax = axes[i]\n",
    "    ax.boxplot(data[col])\n",
    "    ax.set_title(col)\n",
    "    i += 1"
   ]
  },
  {
   "cell_type": "markdown",
   "id": "d42e8b07",
   "metadata": {},
   "source": [
    "## ENCODING"
   ]
  },
  {
   "cell_type": "code",
   "execution_count": 13,
   "id": "ea3b3302",
   "metadata": {},
   "outputs": [],
   "source": [
    "from sklearn.preprocessing import LabelEncoder"
   ]
  },
  {
   "cell_type": "code",
   "execution_count": 15,
   "id": "443ae684",
   "metadata": {},
   "outputs": [],
   "source": [
    "L_encoder = LabelEncoder()"
   ]
  },
  {
   "cell_type": "code",
   "execution_count": 16,
   "id": "7c8f8098",
   "metadata": {},
   "outputs": [],
   "source": [
    "# encoding categorical data by looping through columns\n",
    "for i in cat_columns:\n",
    "    data[i] = L_encoder.fit_transform(data[i])"
   ]
  },
  {
   "cell_type": "code",
   "execution_count": 17,
   "id": "8ca95138",
   "metadata": {},
   "outputs": [
    {
     "data": {
      "text/html": [
       "<div>\n",
       "<style scoped>\n",
       "    .dataframe tbody tr th:only-of-type {\n",
       "        vertical-align: middle;\n",
       "    }\n",
       "\n",
       "    .dataframe tbody tr th {\n",
       "        vertical-align: top;\n",
       "    }\n",
       "\n",
       "    .dataframe thead th {\n",
       "        text-align: right;\n",
       "    }\n",
       "</style>\n",
       "<table border=\"1\" class=\"dataframe\">\n",
       "  <thead>\n",
       "    <tr style=\"text-align: right;\">\n",
       "      <th></th>\n",
       "      <th>Age</th>\n",
       "      <th>Education_Level</th>\n",
       "      <th>Occupation</th>\n",
       "      <th>Number_of_Dependents</th>\n",
       "      <th>Location</th>\n",
       "      <th>Work_Experience</th>\n",
       "      <th>Marital_Status</th>\n",
       "      <th>Employment_Status</th>\n",
       "      <th>Household_Size</th>\n",
       "      <th>Homeownership_Status</th>\n",
       "      <th>Type_of_Housing</th>\n",
       "      <th>Gender</th>\n",
       "      <th>Primary_Mode_of_Transportation</th>\n",
       "      <th>Income</th>\n",
       "    </tr>\n",
       "  </thead>\n",
       "  <tbody>\n",
       "    <tr>\n",
       "      <th>0</th>\n",
       "      <td>56</td>\n",
       "      <td>3</td>\n",
       "      <td>4</td>\n",
       "      <td>5</td>\n",
       "      <td>2</td>\n",
       "      <td>21</td>\n",
       "      <td>1</td>\n",
       "      <td>0</td>\n",
       "      <td>7</td>\n",
       "      <td>0</td>\n",
       "      <td>0</td>\n",
       "      <td>1</td>\n",
       "      <td>2</td>\n",
       "      <td>72510</td>\n",
       "    </tr>\n",
       "    <tr>\n",
       "      <th>1</th>\n",
       "      <td>69</td>\n",
       "      <td>2</td>\n",
       "      <td>1</td>\n",
       "      <td>0</td>\n",
       "      <td>2</td>\n",
       "      <td>4</td>\n",
       "      <td>2</td>\n",
       "      <td>0</td>\n",
       "      <td>7</td>\n",
       "      <td>0</td>\n",
       "      <td>0</td>\n",
       "      <td>1</td>\n",
       "      <td>0</td>\n",
       "      <td>75462</td>\n",
       "    </tr>\n",
       "    <tr>\n",
       "      <th>2</th>\n",
       "      <td>46</td>\n",
       "      <td>0</td>\n",
       "      <td>4</td>\n",
       "      <td>1</td>\n",
       "      <td>2</td>\n",
       "      <td>1</td>\n",
       "      <td>2</td>\n",
       "      <td>0</td>\n",
       "      <td>7</td>\n",
       "      <td>0</td>\n",
       "      <td>1</td>\n",
       "      <td>0</td>\n",
       "      <td>1</td>\n",
       "      <td>71748</td>\n",
       "    </tr>\n",
       "    <tr>\n",
       "      <th>3</th>\n",
       "      <td>32</td>\n",
       "      <td>2</td>\n",
       "      <td>3</td>\n",
       "      <td>2</td>\n",
       "      <td>2</td>\n",
       "      <td>32</td>\n",
       "      <td>1</td>\n",
       "      <td>0</td>\n",
       "      <td>1</td>\n",
       "      <td>0</td>\n",
       "      <td>0</td>\n",
       "      <td>0</td>\n",
       "      <td>1</td>\n",
       "      <td>74520</td>\n",
       "    </tr>\n",
       "    <tr>\n",
       "      <th>4</th>\n",
       "      <td>60</td>\n",
       "      <td>0</td>\n",
       "      <td>1</td>\n",
       "      <td>3</td>\n",
       "      <td>2</td>\n",
       "      <td>15</td>\n",
       "      <td>1</td>\n",
       "      <td>2</td>\n",
       "      <td>4</td>\n",
       "      <td>0</td>\n",
       "      <td>2</td>\n",
       "      <td>1</td>\n",
       "      <td>3</td>\n",
       "      <td>640210</td>\n",
       "    </tr>\n",
       "  </tbody>\n",
       "</table>\n",
       "</div>"
      ],
      "text/plain": [
       "   Age  Education_Level  Occupation  Number_of_Dependents  Location  \\\n",
       "0   56                3           4                     5         2   \n",
       "1   69                2           1                     0         2   \n",
       "2   46                0           4                     1         2   \n",
       "3   32                2           3                     2         2   \n",
       "4   60                0           1                     3         2   \n",
       "\n",
       "   Work_Experience  Marital_Status  Employment_Status  Household_Size  \\\n",
       "0               21               1                  0               7   \n",
       "1                4               2                  0               7   \n",
       "2                1               2                  0               7   \n",
       "3               32               1                  0               1   \n",
       "4               15               1                  2               4   \n",
       "\n",
       "   Homeownership_Status  Type_of_Housing  Gender  \\\n",
       "0                     0                0       1   \n",
       "1                     0                0       1   \n",
       "2                     0                1       0   \n",
       "3                     0                0       0   \n",
       "4                     0                2       1   \n",
       "\n",
       "   Primary_Mode_of_Transportation  Income  \n",
       "0                               2   72510  \n",
       "1                               0   75462  \n",
       "2                               1   71748  \n",
       "3                               1   74520  \n",
       "4                               3  640210  "
      ]
     },
     "execution_count": 17,
     "metadata": {},
     "output_type": "execute_result"
    }
   ],
   "source": [
    "data.head()"
   ]
  },
  {
   "cell_type": "markdown",
   "id": "8a885301",
   "metadata": {},
   "source": [
    "## SCALING"
   ]
  },
  {
   "cell_type": "code",
   "execution_count": 18,
   "id": "6ee05b08",
   "metadata": {},
   "outputs": [],
   "source": [
    "from sklearn.preprocessing import StandardScaler"
   ]
  },
  {
   "cell_type": "code",
   "execution_count": 19,
   "id": "14593881",
   "metadata": {},
   "outputs": [],
   "source": [
    "ss=StandardScaler()"
   ]
  },
  {
   "cell_type": "code",
   "execution_count": 20,
   "id": "a01855c9",
   "metadata": {},
   "outputs": [],
   "source": [
    "data=ss.fit_transform(data)"
   ]
  },
  {
   "cell_type": "code",
   "execution_count": 21,
   "id": "60544b9c",
   "metadata": {},
   "outputs": [],
   "source": [
    "data=pd.DataFrame(data)"
   ]
  },
  {
   "cell_type": "code",
   "execution_count": 22,
   "id": "c3a59da9",
   "metadata": {},
   "outputs": [
    {
     "data": {
      "text/html": [
       "<div>\n",
       "<style scoped>\n",
       "    .dataframe tbody tr th:only-of-type {\n",
       "        vertical-align: middle;\n",
       "    }\n",
       "\n",
       "    .dataframe tbody tr th {\n",
       "        vertical-align: top;\n",
       "    }\n",
       "\n",
       "    .dataframe thead th {\n",
       "        text-align: right;\n",
       "    }\n",
       "</style>\n",
       "<table border=\"1\" class=\"dataframe\">\n",
       "  <thead>\n",
       "    <tr style=\"text-align: right;\">\n",
       "      <th></th>\n",
       "      <th>0</th>\n",
       "      <th>1</th>\n",
       "      <th>2</th>\n",
       "      <th>3</th>\n",
       "      <th>4</th>\n",
       "      <th>5</th>\n",
       "      <th>6</th>\n",
       "      <th>7</th>\n",
       "      <th>8</th>\n",
       "      <th>9</th>\n",
       "      <th>10</th>\n",
       "      <th>11</th>\n",
       "      <th>12</th>\n",
       "      <th>13</th>\n",
       "    </tr>\n",
       "  </thead>\n",
       "  <tbody>\n",
       "    <tr>\n",
       "      <th>0</th>\n",
       "      <td>0.787878</td>\n",
       "      <td>1.298040</td>\n",
       "      <td>1.342644</td>\n",
       "      <td>1.442904</td>\n",
       "      <td>0.597968</td>\n",
       "      <td>-0.263365</td>\n",
       "      <td>-0.464107</td>\n",
       "      <td>-0.895424</td>\n",
       "      <td>1.497416</td>\n",
       "      <td>-0.813438</td>\n",
       "      <td>-1.068910</td>\n",
       "      <td>0.975695</td>\n",
       "      <td>0.638472</td>\n",
       "      <td>-0.408747</td>\n",
       "    </tr>\n",
       "    <tr>\n",
       "      <th>1</th>\n",
       "      <td>1.642959</td>\n",
       "      <td>0.493553</td>\n",
       "      <td>-0.868804</td>\n",
       "      <td>-1.474411</td>\n",
       "      <td>0.597968</td>\n",
       "      <td>-1.423625</td>\n",
       "      <td>1.116639</td>\n",
       "      <td>-0.895424</td>\n",
       "      <td>1.497416</td>\n",
       "      <td>-0.813438</td>\n",
       "      <td>-1.068910</td>\n",
       "      <td>0.975695</td>\n",
       "      <td>-1.548450</td>\n",
       "      <td>-0.407126</td>\n",
       "    </tr>\n",
       "    <tr>\n",
       "      <th>2</th>\n",
       "      <td>0.130124</td>\n",
       "      <td>-1.115422</td>\n",
       "      <td>1.342644</td>\n",
       "      <td>-0.890948</td>\n",
       "      <td>0.597968</td>\n",
       "      <td>-1.628377</td>\n",
       "      <td>1.116639</td>\n",
       "      <td>-0.895424</td>\n",
       "      <td>1.497416</td>\n",
       "      <td>-0.813438</td>\n",
       "      <td>0.276816</td>\n",
       "      <td>-1.024910</td>\n",
       "      <td>-0.454989</td>\n",
       "      <td>-0.409166</td>\n",
       "    </tr>\n",
       "    <tr>\n",
       "      <th>3</th>\n",
       "      <td>-0.790733</td>\n",
       "      <td>0.493553</td>\n",
       "      <td>0.605494</td>\n",
       "      <td>-0.307485</td>\n",
       "      <td>0.597968</td>\n",
       "      <td>0.487391</td>\n",
       "      <td>-0.464107</td>\n",
       "      <td>-0.895424</td>\n",
       "      <td>-1.487070</td>\n",
       "      <td>-0.813438</td>\n",
       "      <td>-1.068910</td>\n",
       "      <td>-1.024910</td>\n",
       "      <td>-0.454989</td>\n",
       "      <td>-0.407644</td>\n",
       "    </tr>\n",
       "    <tr>\n",
       "      <th>4</th>\n",
       "      <td>1.050980</td>\n",
       "      <td>-1.115422</td>\n",
       "      <td>-0.868804</td>\n",
       "      <td>0.275978</td>\n",
       "      <td>0.597968</td>\n",
       "      <td>-0.672869</td>\n",
       "      <td>-0.464107</td>\n",
       "      <td>1.671731</td>\n",
       "      <td>0.005173</td>\n",
       "      <td>-0.813438</td>\n",
       "      <td>1.622542</td>\n",
       "      <td>0.975695</td>\n",
       "      <td>1.731932</td>\n",
       "      <td>-0.096995</td>\n",
       "    </tr>\n",
       "  </tbody>\n",
       "</table>\n",
       "</div>"
      ],
      "text/plain": [
       "         0         1         2         3         4         5         6   \\\n",
       "0  0.787878  1.298040  1.342644  1.442904  0.597968 -0.263365 -0.464107   \n",
       "1  1.642959  0.493553 -0.868804 -1.474411  0.597968 -1.423625  1.116639   \n",
       "2  0.130124 -1.115422  1.342644 -0.890948  0.597968 -1.628377  1.116639   \n",
       "3 -0.790733  0.493553  0.605494 -0.307485  0.597968  0.487391 -0.464107   \n",
       "4  1.050980 -1.115422 -0.868804  0.275978  0.597968 -0.672869 -0.464107   \n",
       "\n",
       "         7         8         9         10        11        12        13  \n",
       "0 -0.895424  1.497416 -0.813438 -1.068910  0.975695  0.638472 -0.408747  \n",
       "1 -0.895424  1.497416 -0.813438 -1.068910  0.975695 -1.548450 -0.407126  \n",
       "2 -0.895424  1.497416 -0.813438  0.276816 -1.024910 -0.454989 -0.409166  \n",
       "3 -0.895424 -1.487070 -0.813438 -1.068910 -1.024910 -0.454989 -0.407644  \n",
       "4  1.671731  0.005173 -0.813438  1.622542  0.975695  1.731932 -0.096995  "
      ]
     },
     "execution_count": 22,
     "metadata": {},
     "output_type": "execute_result"
    }
   ],
   "source": [
    "data.head()"
   ]
  },
  {
   "cell_type": "code",
   "execution_count": 23,
   "id": "2742e8ae",
   "metadata": {},
   "outputs": [],
   "source": [
    "data.columns=['Age','Education_Level','Occupation','Number_of_Dependents','Location','Work_Experience','Marital_Status','Employment_Status','Household_Size','Homeownership_Status','Type_of_Housing','Gender','Primary_Mode_of_Transportation','Income']"
   ]
  },
  {
   "cell_type": "code",
   "execution_count": 24,
   "id": "f4f0007e",
   "metadata": {},
   "outputs": [
    {
     "data": {
      "text/html": [
       "<div>\n",
       "<style scoped>\n",
       "    .dataframe tbody tr th:only-of-type {\n",
       "        vertical-align: middle;\n",
       "    }\n",
       "\n",
       "    .dataframe tbody tr th {\n",
       "        vertical-align: top;\n",
       "    }\n",
       "\n",
       "    .dataframe thead th {\n",
       "        text-align: right;\n",
       "    }\n",
       "</style>\n",
       "<table border=\"1\" class=\"dataframe\">\n",
       "  <thead>\n",
       "    <tr style=\"text-align: right;\">\n",
       "      <th></th>\n",
       "      <th>Age</th>\n",
       "      <th>Education_Level</th>\n",
       "      <th>Occupation</th>\n",
       "      <th>Number_of_Dependents</th>\n",
       "      <th>Location</th>\n",
       "      <th>Work_Experience</th>\n",
       "      <th>Marital_Status</th>\n",
       "      <th>Employment_Status</th>\n",
       "      <th>Household_Size</th>\n",
       "      <th>Homeownership_Status</th>\n",
       "      <th>Type_of_Housing</th>\n",
       "      <th>Gender</th>\n",
       "      <th>Primary_Mode_of_Transportation</th>\n",
       "      <th>Income</th>\n",
       "    </tr>\n",
       "  </thead>\n",
       "  <tbody>\n",
       "    <tr>\n",
       "      <th>0</th>\n",
       "      <td>0.787878</td>\n",
       "      <td>1.298040</td>\n",
       "      <td>1.342644</td>\n",
       "      <td>1.442904</td>\n",
       "      <td>0.597968</td>\n",
       "      <td>-0.263365</td>\n",
       "      <td>-0.464107</td>\n",
       "      <td>-0.895424</td>\n",
       "      <td>1.497416</td>\n",
       "      <td>-0.813438</td>\n",
       "      <td>-1.068910</td>\n",
       "      <td>0.975695</td>\n",
       "      <td>0.638472</td>\n",
       "      <td>-0.408747</td>\n",
       "    </tr>\n",
       "    <tr>\n",
       "      <th>1</th>\n",
       "      <td>1.642959</td>\n",
       "      <td>0.493553</td>\n",
       "      <td>-0.868804</td>\n",
       "      <td>-1.474411</td>\n",
       "      <td>0.597968</td>\n",
       "      <td>-1.423625</td>\n",
       "      <td>1.116639</td>\n",
       "      <td>-0.895424</td>\n",
       "      <td>1.497416</td>\n",
       "      <td>-0.813438</td>\n",
       "      <td>-1.068910</td>\n",
       "      <td>0.975695</td>\n",
       "      <td>-1.548450</td>\n",
       "      <td>-0.407126</td>\n",
       "    </tr>\n",
       "    <tr>\n",
       "      <th>2</th>\n",
       "      <td>0.130124</td>\n",
       "      <td>-1.115422</td>\n",
       "      <td>1.342644</td>\n",
       "      <td>-0.890948</td>\n",
       "      <td>0.597968</td>\n",
       "      <td>-1.628377</td>\n",
       "      <td>1.116639</td>\n",
       "      <td>-0.895424</td>\n",
       "      <td>1.497416</td>\n",
       "      <td>-0.813438</td>\n",
       "      <td>0.276816</td>\n",
       "      <td>-1.024910</td>\n",
       "      <td>-0.454989</td>\n",
       "      <td>-0.409166</td>\n",
       "    </tr>\n",
       "    <tr>\n",
       "      <th>3</th>\n",
       "      <td>-0.790733</td>\n",
       "      <td>0.493553</td>\n",
       "      <td>0.605494</td>\n",
       "      <td>-0.307485</td>\n",
       "      <td>0.597968</td>\n",
       "      <td>0.487391</td>\n",
       "      <td>-0.464107</td>\n",
       "      <td>-0.895424</td>\n",
       "      <td>-1.487070</td>\n",
       "      <td>-0.813438</td>\n",
       "      <td>-1.068910</td>\n",
       "      <td>-1.024910</td>\n",
       "      <td>-0.454989</td>\n",
       "      <td>-0.407644</td>\n",
       "    </tr>\n",
       "    <tr>\n",
       "      <th>4</th>\n",
       "      <td>1.050980</td>\n",
       "      <td>-1.115422</td>\n",
       "      <td>-0.868804</td>\n",
       "      <td>0.275978</td>\n",
       "      <td>0.597968</td>\n",
       "      <td>-0.672869</td>\n",
       "      <td>-0.464107</td>\n",
       "      <td>1.671731</td>\n",
       "      <td>0.005173</td>\n",
       "      <td>-0.813438</td>\n",
       "      <td>1.622542</td>\n",
       "      <td>0.975695</td>\n",
       "      <td>1.731932</td>\n",
       "      <td>-0.096995</td>\n",
       "    </tr>\n",
       "  </tbody>\n",
       "</table>\n",
       "</div>"
      ],
      "text/plain": [
       "        Age  Education_Level  Occupation  Number_of_Dependents  Location  \\\n",
       "0  0.787878         1.298040    1.342644              1.442904  0.597968   \n",
       "1  1.642959         0.493553   -0.868804             -1.474411  0.597968   \n",
       "2  0.130124        -1.115422    1.342644             -0.890948  0.597968   \n",
       "3 -0.790733         0.493553    0.605494             -0.307485  0.597968   \n",
       "4  1.050980        -1.115422   -0.868804              0.275978  0.597968   \n",
       "\n",
       "   Work_Experience  Marital_Status  Employment_Status  Household_Size  \\\n",
       "0        -0.263365       -0.464107          -0.895424        1.497416   \n",
       "1        -1.423625        1.116639          -0.895424        1.497416   \n",
       "2        -1.628377        1.116639          -0.895424        1.497416   \n",
       "3         0.487391       -0.464107          -0.895424       -1.487070   \n",
       "4        -0.672869       -0.464107           1.671731        0.005173   \n",
       "\n",
       "   Homeownership_Status  Type_of_Housing    Gender  \\\n",
       "0             -0.813438        -1.068910  0.975695   \n",
       "1             -0.813438        -1.068910  0.975695   \n",
       "2             -0.813438         0.276816 -1.024910   \n",
       "3             -0.813438        -1.068910 -1.024910   \n",
       "4             -0.813438         1.622542  0.975695   \n",
       "\n",
       "   Primary_Mode_of_Transportation    Income  \n",
       "0                        0.638472 -0.408747  \n",
       "1                       -1.548450 -0.407126  \n",
       "2                       -0.454989 -0.409166  \n",
       "3                       -0.454989 -0.407644  \n",
       "4                        1.731932 -0.096995  "
      ]
     },
     "execution_count": 24,
     "metadata": {},
     "output_type": "execute_result"
    }
   ],
   "source": [
    "data.head()"
   ]
  },
  {
   "cell_type": "markdown",
   "id": "7f82686e",
   "metadata": {},
   "source": [
    "## TRAIN TEST SPLIT"
   ]
  },
  {
   "cell_type": "code",
   "execution_count": 25,
   "id": "ced97e6c",
   "metadata": {},
   "outputs": [],
   "source": [
    "# spliting data into train and test data\n",
    "from sklearn.model_selection import train_test_split"
   ]
  },
  {
   "cell_type": "code",
   "execution_count": 26,
   "id": "5f5e0f8c",
   "metadata": {},
   "outputs": [],
   "source": [
    "X = data.drop('Income', axis=1)  # Features\n",
    "y = data['Income']  # Target variable\n",
    "X_train, X_test, y_train, y_test = train_test_split(X,y, test_size=0.3, random_state=1)"
   ]
  },
  {
   "cell_type": "markdown",
   "id": "6f18113c",
   "metadata": {},
   "source": [
    "## MLFLOW"
   ]
  },
  {
   "cell_type": "code",
   "execution_count": 27,
   "id": "751c4743",
   "metadata": {},
   "outputs": [],
   "source": [
    "import mlflow\n",
    "import os\n",
    "os.environ['GIT_PYTHON_REFRESH']='quiet'\n",
    "os.environ['MLFLOW_TRACKING_URI']=\"file:///Users/HP/OneDrive/Documents/Bhuvan/b\""
   ]
  },
  {
   "cell_type": "code",
   "execution_count": 28,
   "id": "d26bd364",
   "metadata": {},
   "outputs": [
    {
     "data": {
      "text/plain": [
       "<Experiment: artifact_location='file:///C:/Users/HP/OneDrive/Documents/Bhuvan/b/884508345532141847', creation_time=1721219794523, experiment_id='884508345532141847', last_update_time=1721219794523, lifecycle_stage='active', name='housing_data', tags={}>"
      ]
     },
     "execution_count": 28,
     "metadata": {},
     "output_type": "execute_result"
    }
   ],
   "source": [
    "mlflow.set_experiment(\"housing_data\")"
   ]
  },
  {
   "cell_type": "code",
   "execution_count": 29,
   "id": "35ab1803",
   "metadata": {},
   "outputs": [
    {
     "name": "stderr",
     "output_type": "stream",
     "text": [
      "C:\\Users\\HP\\anaconda3\\Lib\\site-packages\\_distutils_hack\\__init__.py:33: UserWarning: Setuptools is replacing distutils.\n",
      "  warnings.warn(\"Setuptools is replacing distutils.\")\n"
     ]
    }
   ],
   "source": [
    "with mlflow.start_run():    \n",
    "    from sklearn.ensemble import RandomForestRegressor\n",
    "    from sklearn.ensemble import GradientBoostingRegressor\n",
    "    from sklearn.metrics import r2_score\n",
    "    \n",
    "    # model object initialization\n",
    "    RandFor=RandomForestRegressor(n_estimators=5000,max_depth=6)\n",
    "    GBM=GradientBoostingRegressor(n_estimators=3000,max_depth=6,learning_rate=0.01,min_samples_split=5)\n",
    "    rf_n_estimators=5000\n",
    "    #logging parameters\n",
    "    mlflow.log_param(\"n_estimators\",rf_n_estimators)\n",
    "    mlflow.log_param('rf_max_depth',6)\n",
    "    mlflow.log_param('gbm_n_estimators',3000)\n",
    "    mlflow.log_param('gbm_max_depth',6)\n",
    "    mlflow.log_param('gbm_learning_rate',0.01)\n",
    "    mlflow.log_param('gbm_minimum_samples_split',5)\n",
    "    \n",
    "    #training models\n",
    "    rf=RandFor.fit(X_train,y_train)\n",
    "    gbm=GBM.fit(X_train,y_train)\n",
    "    \n",
    "    #training scores\n",
    "    training_score_rf=RandFor.score(X_train,y_train)\n",
    "    training_score_gbm=GBM.score(X_train,y_train)\n",
    "    \n",
    "    #logging training score\n",
    "    mlflow.log_metric(\"rf_training_score\", training_score_rf)\n",
    "    mlflow.log_metric(\"gbm_training_score\",training_score_gbm)\n",
    "    \n",
    "    #value predictions\n",
    "    y_pred_rf=rf.predict(X_test)\n",
    "    y_pred_gbm=gbm.predict(X_test)\n",
    "    \n",
    "    #prediction evaluations\n",
    "    testing_score_rf=r2_score(y_pred_rf,y_test)\n",
    "    testing_score_gbm=r2_score(y_pred_gbm,y_test)\n",
    "    \n",
    "    #logging evaluation scores\n",
    "    mlflow.log_metric(\"rf_testing_score\", testing_score_rf)\n",
    "    mlflow.log_metric(\"gbm_testing_score\",testing_score_gbm)\n",
    "    \n",
    "    #logging models\n",
    "    mlflow.sklearn.log_model(rf, \"random-forest-model\")\n",
    "    mlflow.sklearn.log_model(gbm, \"gradient-boosting-model\")\n",
    "\n",
    "    \n",
    "    "
   ]
  },
  {
   "cell_type": "code",
   "execution_count": 30,
   "id": "51b23bfa",
   "metadata": {},
   "outputs": [],
   "source": [
    "# import requests\n",
    "# import json\n",
    "# import pandas as pd\n",
    "\n",
    "\n",
    "# data = {'dataframe_records': pd.DataFrame(X_test).values.tolist()}\n",
    "# headers = {\"content-Type\" : \"application/json\"}\n",
    "\n",
    "# response = requests.post(\"http://localhost:8003/invocations\",data=json.dumps(data),headers=headers)\n",
    "# predictions = response.json()\n",
    "\n",
    "# print(predictions)"
   ]
  },
  {
   "cell_type": "code",
   "execution_count": null,
   "id": "b72b2e8f",
   "metadata": {},
   "outputs": [],
   "source": []
  }
 ],
 "metadata": {
  "kernelspec": {
   "display_name": "Python 3 (ipykernel)",
   "language": "python",
   "name": "python3"
  },
  "language_info": {
   "codemirror_mode": {
    "name": "ipython",
    "version": 3
   },
   "file_extension": ".py",
   "mimetype": "text/x-python",
   "name": "python",
   "nbconvert_exporter": "python",
   "pygments_lexer": "ipython3",
   "version": "3.11.7"
  }
 },
 "nbformat": 4,
 "nbformat_minor": 5
}
